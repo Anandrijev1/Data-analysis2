{
 "cells": [
  {
   "cell_type": "code",
   "execution_count": 1,
   "id": "e3f1f01a",
   "metadata": {},
   "outputs": [],
   "source": [
    "import pandas as pd\n",
    "import numpy as np\n",
    "import matplotlib.pyplot as plt\n",
    "import seaborn as sns"
   ]
  },
  {
   "cell_type": "code",
   "execution_count": 2,
   "id": "512d1ede",
   "metadata": {
    "scrolled": true
   },
   "outputs": [
    {
     "data": {
      "text/html": [
       "<div>\n",
       "<style scoped>\n",
       "    .dataframe tbody tr th:only-of-type {\n",
       "        vertical-align: middle;\n",
       "    }\n",
       "\n",
       "    .dataframe tbody tr th {\n",
       "        vertical-align: top;\n",
       "    }\n",
       "\n",
       "    .dataframe thead th {\n",
       "        text-align: right;\n",
       "    }\n",
       "</style>\n",
       "<table border=\"1\" class=\"dataframe\">\n",
       "  <thead>\n",
       "    <tr style=\"text-align: right;\">\n",
       "      <th></th>\n",
       "      <th>Rating</th>\n",
       "      <th>Company Name</th>\n",
       "      <th>Job Title</th>\n",
       "      <th>Salary</th>\n",
       "      <th>Salaries Reported</th>\n",
       "      <th>Location</th>\n",
       "      <th>Employment Status</th>\n",
       "      <th>Job Roles</th>\n",
       "    </tr>\n",
       "  </thead>\n",
       "  <tbody>\n",
       "    <tr>\n",
       "      <th>0</th>\n",
       "      <td>3.8</td>\n",
       "      <td>Sasken</td>\n",
       "      <td>Android Developer</td>\n",
       "      <td>400000</td>\n",
       "      <td>3</td>\n",
       "      <td>Bangalore</td>\n",
       "      <td>Full Time</td>\n",
       "      <td>Android</td>\n",
       "    </tr>\n",
       "    <tr>\n",
       "      <th>1</th>\n",
       "      <td>4.5</td>\n",
       "      <td>Advanced Millennium Technologies</td>\n",
       "      <td>Android Developer</td>\n",
       "      <td>400000</td>\n",
       "      <td>3</td>\n",
       "      <td>Bangalore</td>\n",
       "      <td>Full Time</td>\n",
       "      <td>Android</td>\n",
       "    </tr>\n",
       "    <tr>\n",
       "      <th>2</th>\n",
       "      <td>4.0</td>\n",
       "      <td>Unacademy</td>\n",
       "      <td>Android Developer</td>\n",
       "      <td>1000000</td>\n",
       "      <td>3</td>\n",
       "      <td>Bangalore</td>\n",
       "      <td>Full Time</td>\n",
       "      <td>Android</td>\n",
       "    </tr>\n",
       "    <tr>\n",
       "      <th>3</th>\n",
       "      <td>3.8</td>\n",
       "      <td>SnapBizz Cloudtech</td>\n",
       "      <td>Android Developer</td>\n",
       "      <td>300000</td>\n",
       "      <td>3</td>\n",
       "      <td>Bangalore</td>\n",
       "      <td>Full Time</td>\n",
       "      <td>Android</td>\n",
       "    </tr>\n",
       "    <tr>\n",
       "      <th>4</th>\n",
       "      <td>4.4</td>\n",
       "      <td>Appoids Tech Solutions</td>\n",
       "      <td>Android Developer</td>\n",
       "      <td>600000</td>\n",
       "      <td>3</td>\n",
       "      <td>Bangalore</td>\n",
       "      <td>Full Time</td>\n",
       "      <td>Android</td>\n",
       "    </tr>\n",
       "    <tr>\n",
       "      <th>...</th>\n",
       "      <td>...</td>\n",
       "      <td>...</td>\n",
       "      <td>...</td>\n",
       "      <td>...</td>\n",
       "      <td>...</td>\n",
       "      <td>...</td>\n",
       "      <td>...</td>\n",
       "      <td>...</td>\n",
       "    </tr>\n",
       "    <tr>\n",
       "      <th>22765</th>\n",
       "      <td>4.7</td>\n",
       "      <td>Expert Solutions</td>\n",
       "      <td>Web Developer</td>\n",
       "      <td>200000</td>\n",
       "      <td>1</td>\n",
       "      <td>Bangalore</td>\n",
       "      <td>Full Time</td>\n",
       "      <td>Web</td>\n",
       "    </tr>\n",
       "    <tr>\n",
       "      <th>22766</th>\n",
       "      <td>4.0</td>\n",
       "      <td>Nextgen Innovation Labs</td>\n",
       "      <td>Web Developer</td>\n",
       "      <td>300000</td>\n",
       "      <td>1</td>\n",
       "      <td>Bangalore</td>\n",
       "      <td>Full Time</td>\n",
       "      <td>Web</td>\n",
       "    </tr>\n",
       "    <tr>\n",
       "      <th>22767</th>\n",
       "      <td>4.1</td>\n",
       "      <td>Fresher</td>\n",
       "      <td>Full Stack Web Developer</td>\n",
       "      <td>192000</td>\n",
       "      <td>13</td>\n",
       "      <td>Bangalore</td>\n",
       "      <td>Full Time</td>\n",
       "      <td>Web</td>\n",
       "    </tr>\n",
       "    <tr>\n",
       "      <th>22768</th>\n",
       "      <td>4.1</td>\n",
       "      <td>Accenture</td>\n",
       "      <td>Full Stack Web Developer</td>\n",
       "      <td>300000</td>\n",
       "      <td>7</td>\n",
       "      <td>Bangalore</td>\n",
       "      <td>Full Time</td>\n",
       "      <td>Web</td>\n",
       "    </tr>\n",
       "    <tr>\n",
       "      <th>22769</th>\n",
       "      <td>3.8</td>\n",
       "      <td>Thomson Reuters</td>\n",
       "      <td>Associate Web Developer</td>\n",
       "      <td>300000</td>\n",
       "      <td>7</td>\n",
       "      <td>Bangalore</td>\n",
       "      <td>Full Time</td>\n",
       "      <td>Web</td>\n",
       "    </tr>\n",
       "  </tbody>\n",
       "</table>\n",
       "<p>22770 rows × 8 columns</p>\n",
       "</div>"
      ],
      "text/plain": [
       "       Rating                      Company Name                 Job Title  \\\n",
       "0         3.8                            Sasken         Android Developer   \n",
       "1         4.5  Advanced Millennium Technologies         Android Developer   \n",
       "2         4.0                         Unacademy         Android Developer   \n",
       "3         3.8                SnapBizz Cloudtech         Android Developer   \n",
       "4         4.4            Appoids Tech Solutions         Android Developer   \n",
       "...       ...                               ...                       ...   \n",
       "22765     4.7                  Expert Solutions             Web Developer   \n",
       "22766     4.0           Nextgen Innovation Labs             Web Developer   \n",
       "22767     4.1                           Fresher  Full Stack Web Developer   \n",
       "22768     4.1                         Accenture  Full Stack Web Developer   \n",
       "22769     3.8                   Thomson Reuters   Associate Web Developer   \n",
       "\n",
       "        Salary  Salaries Reported   Location Employment Status Job Roles  \n",
       "0       400000                  3  Bangalore         Full Time   Android  \n",
       "1       400000                  3  Bangalore         Full Time   Android  \n",
       "2      1000000                  3  Bangalore         Full Time   Android  \n",
       "3       300000                  3  Bangalore         Full Time   Android  \n",
       "4       600000                  3  Bangalore         Full Time   Android  \n",
       "...        ...                ...        ...               ...       ...  \n",
       "22765   200000                  1  Bangalore         Full Time       Web  \n",
       "22766   300000                  1  Bangalore         Full Time       Web  \n",
       "22767   192000                 13  Bangalore         Full Time       Web  \n",
       "22768   300000                  7  Bangalore         Full Time       Web  \n",
       "22769   300000                  7  Bangalore         Full Time       Web  \n",
       "\n",
       "[22770 rows x 8 columns]"
      ]
     },
     "execution_count": 2,
     "metadata": {},
     "output_type": "execute_result"
    }
   ],
   "source": [
    "salary_review = pd.read_csv('Salary_Dataset_with_Extra_Features.csv')\n",
    "salary_review"
   ]
  },
  {
   "cell_type": "code",
   "execution_count": 3,
   "id": "4a267e1c",
   "metadata": {},
   "outputs": [
    {
     "data": {
      "text/html": [
       "<div>\n",
       "<style scoped>\n",
       "    .dataframe tbody tr th:only-of-type {\n",
       "        vertical-align: middle;\n",
       "    }\n",
       "\n",
       "    .dataframe tbody tr th {\n",
       "        vertical-align: top;\n",
       "    }\n",
       "\n",
       "    .dataframe thead th {\n",
       "        text-align: right;\n",
       "    }\n",
       "</style>\n",
       "<table border=\"1\" class=\"dataframe\">\n",
       "  <thead>\n",
       "    <tr style=\"text-align: right;\">\n",
       "      <th></th>\n",
       "      <th>Rating</th>\n",
       "      <th>Company Name</th>\n",
       "      <th>Job Title</th>\n",
       "      <th>Salary</th>\n",
       "      <th>Salaries Reported</th>\n",
       "      <th>Location</th>\n",
       "      <th>Employment Status</th>\n",
       "      <th>Job Roles</th>\n",
       "    </tr>\n",
       "  </thead>\n",
       "  <tbody>\n",
       "    <tr>\n",
       "      <th>0</th>\n",
       "      <td>3.8</td>\n",
       "      <td>Sasken</td>\n",
       "      <td>Android Developer</td>\n",
       "      <td>400000</td>\n",
       "      <td>3</td>\n",
       "      <td>Bangalore</td>\n",
       "      <td>Full Time</td>\n",
       "      <td>Android</td>\n",
       "    </tr>\n",
       "    <tr>\n",
       "      <th>1</th>\n",
       "      <td>4.5</td>\n",
       "      <td>Advanced Millennium Technologies</td>\n",
       "      <td>Android Developer</td>\n",
       "      <td>400000</td>\n",
       "      <td>3</td>\n",
       "      <td>Bangalore</td>\n",
       "      <td>Full Time</td>\n",
       "      <td>Android</td>\n",
       "    </tr>\n",
       "    <tr>\n",
       "      <th>2</th>\n",
       "      <td>4.0</td>\n",
       "      <td>Unacademy</td>\n",
       "      <td>Android Developer</td>\n",
       "      <td>1000000</td>\n",
       "      <td>3</td>\n",
       "      <td>Bangalore</td>\n",
       "      <td>Full Time</td>\n",
       "      <td>Android</td>\n",
       "    </tr>\n",
       "    <tr>\n",
       "      <th>3</th>\n",
       "      <td>3.8</td>\n",
       "      <td>SnapBizz Cloudtech</td>\n",
       "      <td>Android Developer</td>\n",
       "      <td>300000</td>\n",
       "      <td>3</td>\n",
       "      <td>Bangalore</td>\n",
       "      <td>Full Time</td>\n",
       "      <td>Android</td>\n",
       "    </tr>\n",
       "    <tr>\n",
       "      <th>4</th>\n",
       "      <td>4.4</td>\n",
       "      <td>Appoids Tech Solutions</td>\n",
       "      <td>Android Developer</td>\n",
       "      <td>600000</td>\n",
       "      <td>3</td>\n",
       "      <td>Bangalore</td>\n",
       "      <td>Full Time</td>\n",
       "      <td>Android</td>\n",
       "    </tr>\n",
       "  </tbody>\n",
       "</table>\n",
       "</div>"
      ],
      "text/plain": [
       "   Rating                      Company Name          Job Title   Salary  \\\n",
       "0     3.8                            Sasken  Android Developer   400000   \n",
       "1     4.5  Advanced Millennium Technologies  Android Developer   400000   \n",
       "2     4.0                         Unacademy  Android Developer  1000000   \n",
       "3     3.8                SnapBizz Cloudtech  Android Developer   300000   \n",
       "4     4.4            Appoids Tech Solutions  Android Developer   600000   \n",
       "\n",
       "   Salaries Reported   Location Employment Status Job Roles  \n",
       "0                  3  Bangalore         Full Time   Android  \n",
       "1                  3  Bangalore         Full Time   Android  \n",
       "2                  3  Bangalore         Full Time   Android  \n",
       "3                  3  Bangalore         Full Time   Android  \n",
       "4                  3  Bangalore         Full Time   Android  "
      ]
     },
     "execution_count": 3,
     "metadata": {},
     "output_type": "execute_result"
    }
   ],
   "source": [
    "salary_review.head()"
   ]
  },
  {
   "cell_type": "code",
   "execution_count": 4,
   "id": "94538355",
   "metadata": {
    "scrolled": true
   },
   "outputs": [
    {
     "name": "stdout",
     "output_type": "stream",
     "text": [
      "<class 'pandas.core.frame.DataFrame'>\n",
      "RangeIndex: 22770 entries, 0 to 22769\n",
      "Data columns (total 8 columns):\n",
      " #   Column             Non-Null Count  Dtype  \n",
      "---  ------             --------------  -----  \n",
      " 0   Rating             22770 non-null  float64\n",
      " 1   Company Name       22770 non-null  object \n",
      " 2   Job Title          22770 non-null  object \n",
      " 3   Salary             22770 non-null  int64  \n",
      " 4   Salaries Reported  22770 non-null  int64  \n",
      " 5   Location           22770 non-null  object \n",
      " 6   Employment Status  22770 non-null  object \n",
      " 7   Job Roles          22770 non-null  object \n",
      "dtypes: float64(1), int64(2), object(5)\n",
      "memory usage: 1.4+ MB\n"
     ]
    }
   ],
   "source": [
    "salary_review.info()"
   ]
  },
  {
   "cell_type": "code",
   "execution_count": 5,
   "id": "5f6048fb",
   "metadata": {},
   "outputs": [
    {
     "data": {
      "text/plain": [
       "Rating               0\n",
       "Company Name         0\n",
       "Job Title            0\n",
       "Salary               0\n",
       "Salaries Reported    0\n",
       "Location             0\n",
       "Employment Status    0\n",
       "Job Roles            0\n",
       "dtype: int64"
      ]
     },
     "execution_count": 5,
     "metadata": {},
     "output_type": "execute_result"
    }
   ],
   "source": [
    "salary_review.isna().sum()"
   ]
  },
  {
   "cell_type": "code",
   "execution_count": 6,
   "id": "c78ec085",
   "metadata": {},
   "outputs": [
    {
     "data": {
      "text/plain": [
       "(22770, 8)"
      ]
     },
     "execution_count": 6,
     "metadata": {},
     "output_type": "execute_result"
    }
   ],
   "source": [
    "salary_review.shape"
   ]
  },
  {
   "cell_type": "code",
   "execution_count": 7,
   "id": "7157de37",
   "metadata": {},
   "outputs": [
    {
     "data": {
      "text/plain": [
       "Index(['Rating', 'Company Name', 'Job Title', 'Salary', 'Salaries Reported',\n",
       "       'Location', 'Employment Status', 'Job Roles'],\n",
       "      dtype='object')"
      ]
     },
     "execution_count": 7,
     "metadata": {},
     "output_type": "execute_result"
    }
   ],
   "source": [
    "salary_review.columns"
   ]
  },
  {
   "cell_type": "code",
   "execution_count": 8,
   "id": "0544927b",
   "metadata": {},
   "outputs": [
    {
     "name": "stdout",
     "output_type": "stream",
     "text": [
      "float64 object int64\n"
     ]
    }
   ],
   "source": [
    "print(salary_review.dtypes['Rating'], \n",
    "    salary_review.dtypes['Company Name'], \n",
    "    salary_review.dtypes['Salary'])"
   ]
  },
  {
   "cell_type": "code",
   "execution_count": 9,
   "id": "b877994b",
   "metadata": {},
   "outputs": [
    {
     "data": {
      "text/plain": [
       "Rating                                5.0\n",
       "Company Name         ‎eNotice Ninja Pluss\n",
       "Job Title                      oracle dba\n",
       "Salary                           90000000\n",
       "Salaries Reported                     361\n",
       "Location                             Pune\n",
       "Employment Status                 Trainee\n",
       "Job Roles                             Web\n",
       "dtype: object"
      ]
     },
     "execution_count": 9,
     "metadata": {},
     "output_type": "execute_result"
    }
   ],
   "source": [
    "salary_review.apply(np.max)"
   ]
  },
  {
   "cell_type": "code",
   "execution_count": 10,
   "id": "fa62fb37",
   "metadata": {
    "scrolled": true
   },
   "outputs": [
    {
     "data": {
      "text/plain": [
       "90000000"
      ]
     },
     "execution_count": 10,
     "metadata": {},
     "output_type": "execute_result"
    }
   ],
   "source": [
    "salary_review['Salary'].max()"
   ]
  },
  {
   "cell_type": "code",
   "execution_count": 11,
   "id": "c784d8c9",
   "metadata": {},
   "outputs": [
    {
     "data": {
      "text/plain": [
       "695387.2112428634"
      ]
     },
     "execution_count": 11,
     "metadata": {},
     "output_type": "execute_result"
    }
   ],
   "source": [
    "salary_review['Salary'].mean()"
   ]
  },
  {
   "cell_type": "code",
   "execution_count": 12,
   "id": "68364104",
   "metadata": {},
   "outputs": [
    {
     "data": {
      "text/plain": [
       "2112"
      ]
     },
     "execution_count": 12,
     "metadata": {},
     "output_type": "execute_result"
    }
   ],
   "source": [
    "salary_review['Salary'].min()"
   ]
  },
  {
   "cell_type": "code",
   "execution_count": 13,
   "id": "df678808",
   "metadata": {
    "scrolled": true
   },
   "outputs": [
    {
     "data": {
      "text/html": [
       "<div>\n",
       "<style scoped>\n",
       "    .dataframe tbody tr th:only-of-type {\n",
       "        vertical-align: middle;\n",
       "    }\n",
       "\n",
       "    .dataframe tbody tr th {\n",
       "        vertical-align: top;\n",
       "    }\n",
       "\n",
       "    .dataframe thead th {\n",
       "        text-align: right;\n",
       "    }\n",
       "</style>\n",
       "<table border=\"1\" class=\"dataframe\">\n",
       "  <thead>\n",
       "    <tr style=\"text-align: right;\">\n",
       "      <th></th>\n",
       "      <th>Job Title</th>\n",
       "      <th>Salary</th>\n",
       "    </tr>\n",
       "  </thead>\n",
       "  <tbody>\n",
       "    <tr>\n",
       "      <th>1</th>\n",
       "      <td>Android Developer</td>\n",
       "      <td>400000</td>\n",
       "    </tr>\n",
       "    <tr>\n",
       "      <th>22769</th>\n",
       "      <td>Associate Web Developer</td>\n",
       "      <td>300000</td>\n",
       "    </tr>\n",
       "    <tr>\n",
       "      <th>1155</th>\n",
       "      <td>Senior Android Developer</td>\n",
       "      <td>800000</td>\n",
       "    </tr>\n",
       "    <tr>\n",
       "      <th>33</th>\n",
       "      <td>Android Developer</td>\n",
       "      <td>500000</td>\n",
       "    </tr>\n",
       "  </tbody>\n",
       "</table>\n",
       "</div>"
      ],
      "text/plain": [
       "                      Job Title  Salary\n",
       "1             Android Developer  400000\n",
       "22769   Associate Web Developer  300000\n",
       "1155   Senior Android Developer  800000\n",
       "33            Android Developer  500000"
      ]
     },
     "execution_count": 13,
     "metadata": {},
     "output_type": "execute_result"
    }
   ],
   "source": [
    "salary_review.loc[[1, 22769, 1155, 33], [\"Job Title\", \"Salary\"]] "
   ]
  },
  {
   "cell_type": "code",
   "execution_count": 14,
   "id": "07130abf",
   "metadata": {},
   "outputs": [
    {
     "data": {
      "text/html": [
       "<div>\n",
       "<style scoped>\n",
       "    .dataframe tbody tr th:only-of-type {\n",
       "        vertical-align: middle;\n",
       "    }\n",
       "\n",
       "    .dataframe tbody tr th {\n",
       "        vertical-align: top;\n",
       "    }\n",
       "\n",
       "    .dataframe thead th {\n",
       "        text-align: right;\n",
       "    }\n",
       "</style>\n",
       "<table border=\"1\" class=\"dataframe\">\n",
       "  <thead>\n",
       "    <tr style=\"text-align: right;\">\n",
       "      <th></th>\n",
       "      <th>Company Name</th>\n",
       "      <th>Salary</th>\n",
       "      <th>Job Title</th>\n",
       "    </tr>\n",
       "  </thead>\n",
       "  <tbody>\n",
       "    <tr>\n",
       "      <th>0</th>\n",
       "      <td>Sasken</td>\n",
       "      <td>400000</td>\n",
       "      <td>Android Developer</td>\n",
       "    </tr>\n",
       "    <tr>\n",
       "      <th>1</th>\n",
       "      <td>Advanced Millennium Technologies</td>\n",
       "      <td>400000</td>\n",
       "      <td>Android Developer</td>\n",
       "    </tr>\n",
       "    <tr>\n",
       "      <th>2</th>\n",
       "      <td>Unacademy</td>\n",
       "      <td>1000000</td>\n",
       "      <td>Android Developer</td>\n",
       "    </tr>\n",
       "    <tr>\n",
       "      <th>3</th>\n",
       "      <td>SnapBizz Cloudtech</td>\n",
       "      <td>300000</td>\n",
       "      <td>Android Developer</td>\n",
       "    </tr>\n",
       "    <tr>\n",
       "      <th>4</th>\n",
       "      <td>Appoids Tech Solutions</td>\n",
       "      <td>600000</td>\n",
       "      <td>Android Developer</td>\n",
       "    </tr>\n",
       "    <tr>\n",
       "      <th>...</th>\n",
       "      <td>...</td>\n",
       "      <td>...</td>\n",
       "      <td>...</td>\n",
       "    </tr>\n",
       "    <tr>\n",
       "      <th>22765</th>\n",
       "      <td>Expert Solutions</td>\n",
       "      <td>200000</td>\n",
       "      <td>Web Developer</td>\n",
       "    </tr>\n",
       "    <tr>\n",
       "      <th>22766</th>\n",
       "      <td>Nextgen Innovation Labs</td>\n",
       "      <td>300000</td>\n",
       "      <td>Web Developer</td>\n",
       "    </tr>\n",
       "    <tr>\n",
       "      <th>22767</th>\n",
       "      <td>Fresher</td>\n",
       "      <td>192000</td>\n",
       "      <td>Full Stack Web Developer</td>\n",
       "    </tr>\n",
       "    <tr>\n",
       "      <th>22768</th>\n",
       "      <td>Accenture</td>\n",
       "      <td>300000</td>\n",
       "      <td>Full Stack Web Developer</td>\n",
       "    </tr>\n",
       "    <tr>\n",
       "      <th>22769</th>\n",
       "      <td>Thomson Reuters</td>\n",
       "      <td>300000</td>\n",
       "      <td>Associate Web Developer</td>\n",
       "    </tr>\n",
       "  </tbody>\n",
       "</table>\n",
       "<p>22770 rows × 3 columns</p>\n",
       "</div>"
      ],
      "text/plain": [
       "                           Company Name   Salary                 Job Title\n",
       "0                                Sasken   400000         Android Developer\n",
       "1      Advanced Millennium Technologies   400000         Android Developer\n",
       "2                             Unacademy  1000000         Android Developer\n",
       "3                    SnapBizz Cloudtech   300000         Android Developer\n",
       "4                Appoids Tech Solutions   600000         Android Developer\n",
       "...                                 ...      ...                       ...\n",
       "22765                  Expert Solutions   200000             Web Developer\n",
       "22766           Nextgen Innovation Labs   300000             Web Developer\n",
       "22767                           Fresher   192000  Full Stack Web Developer\n",
       "22768                         Accenture   300000  Full Stack Web Developer\n",
       "22769                   Thomson Reuters   300000   Associate Web Developer\n",
       "\n",
       "[22770 rows x 3 columns]"
      ]
     },
     "execution_count": 14,
     "metadata": {},
     "output_type": "execute_result"
    }
   ],
   "source": [
    "job_title_salary_company_review = salary_review[[\"Company Name\", \"Salary\", \"Job Title\"]]\n",
    "job_title_salary_company_review"
   ]
  },
  {
   "cell_type": "code",
   "execution_count": 15,
   "id": "e7ae6da3",
   "metadata": {},
   "outputs": [
    {
     "data": {
      "text/plain": [
       "1080"
      ]
     },
     "execution_count": 15,
     "metadata": {},
     "output_type": "execute_result"
    }
   ],
   "source": [
    "size_of_unique_job_title = salary_review['Job Title'].unique().size\n",
    "size_of_unique_job_title"
   ]
  },
  {
   "cell_type": "code",
   "execution_count": 16,
   "id": "fa211488",
   "metadata": {
    "scrolled": true
   },
   "outputs": [
    {
     "data": {
      "text/plain": [
       "array(['Android Developer', 'Android Developer - Intern',\n",
       "       'Android Developer - Contractor', ..., 'Web Developer Contractor',\n",
       "       'Full Stack Web Developer', 'Associate Web Developer'],\n",
       "      dtype=object)"
      ]
     },
     "execution_count": 16,
     "metadata": {},
     "output_type": "execute_result"
    }
   ],
   "source": [
    "unique_job_title = salary_review['Job Title'].unique()\n",
    "unique_job_title"
   ]
  },
  {
   "cell_type": "code",
   "execution_count": 17,
   "id": "96d8ee95",
   "metadata": {
    "scrolled": true
   },
   "outputs": [
    {
     "data": {
      "text/plain": [
       "Software Development Engineer          2351\n",
       "Android Developer                      2029\n",
       "Software Development Engineer (SDE)    1614\n",
       "Front End Developer                    1412\n",
       "Test Engineer                          1314\n",
       "                                       ... \n",
       "Java Andriod Developer                    1\n",
       "Java Deceloper                            1\n",
       "Java/J2EE Programmer                      1\n",
       "Java SOA Developer                        1\n",
       "Associate Web Developer                   1\n",
       "Name: Job Title, Length: 1080, dtype: int64"
      ]
     },
     "execution_count": 17,
     "metadata": {},
     "output_type": "execute_result"
    }
   ],
   "source": [
    "count_job_title = salary_review['Job Title'].value_counts()\n",
    "count_job_title"
   ]
  },
  {
   "cell_type": "code",
   "execution_count": 18,
   "id": "6bd245f1",
   "metadata": {},
   "outputs": [
    {
     "data": {
      "text/plain": [
       "<AxesSubplot:title={'center':'Popular Job Title'}>"
      ]
     },
     "execution_count": 18,
     "metadata": {},
     "output_type": "execute_result"
    },
    {
     "data": {
      "image/png": "[encoded data removed]",
      "text/plain": [
       "<Figure size 432x288 with 1 Axes>"
      ]
     },
     "metadata": {
      "needs_background": "light"
     },
     "output_type": "display_data"
    }
   ],
   "source": [
    "count_job_title.head(20).plot(kind = 'bar', title = 'Popular Job Title')"
   ]
  },
  {
   "cell_type": "code",
   "execution_count": 19,
   "id": "6616c676",
   "metadata": {
    "scrolled": true
   },
   "outputs": [
    {
     "data": {
      "text/plain": [
       "'Software Development Engineer'"
      ]
     },
     "execution_count": 19,
     "metadata": {},
     "output_type": "execute_result"
    }
   ],
   "source": [
    "top_job_title = count_job_title.idxmax()\n",
    "top_job_title"
   ]
  },
  {
   "cell_type": "code",
   "execution_count": 20,
   "id": "7f32e4e8",
   "metadata": {},
   "outputs": [
    {
     "data": {
      "text/html": [
       "<div>\n",
       "<style scoped>\n",
       "    .dataframe tbody tr th:only-of-type {\n",
       "        vertical-align: middle;\n",
       "    }\n",
       "\n",
       "    .dataframe tbody tr th {\n",
       "        vertical-align: top;\n",
       "    }\n",
       "\n",
       "    .dataframe thead th {\n",
       "        text-align: right;\n",
       "    }\n",
       "</style>\n",
       "<table border=\"1\" class=\"dataframe\">\n",
       "  <thead>\n",
       "    <tr style=\"text-align: right;\">\n",
       "      <th></th>\n",
       "      <th>Rating</th>\n",
       "      <th>Company Name</th>\n",
       "      <th>Job Title</th>\n",
       "      <th>Salary</th>\n",
       "      <th>Salaries Reported</th>\n",
       "      <th>Location</th>\n",
       "      <th>Employment Status</th>\n",
       "      <th>Job Roles</th>\n",
       "    </tr>\n",
       "  </thead>\n",
       "  <tbody>\n",
       "    <tr>\n",
       "      <th>13615</th>\n",
       "      <td>3.5</td>\n",
       "      <td>ArisGlobal</td>\n",
       "      <td>Software Development Engineer</td>\n",
       "      <td>8700000</td>\n",
       "      <td>1</td>\n",
       "      <td>Bangalore</td>\n",
       "      <td>Full Time</td>\n",
       "      <td>SDE</td>\n",
       "    </tr>\n",
       "    <tr>\n",
       "      <th>14835</th>\n",
       "      <td>4.1</td>\n",
       "      <td>ChinesePod</td>\n",
       "      <td>Software Development Engineer</td>\n",
       "      <td>8000000</td>\n",
       "      <td>1</td>\n",
       "      <td>Hyderabad</td>\n",
       "      <td>Full Time</td>\n",
       "      <td>SDE</td>\n",
       "    </tr>\n",
       "    <tr>\n",
       "      <th>16485</th>\n",
       "      <td>4.0</td>\n",
       "      <td>Silicon Veins</td>\n",
       "      <td>Software Development Engineer</td>\n",
       "      <td>5900000</td>\n",
       "      <td>1</td>\n",
       "      <td>Mumbai</td>\n",
       "      <td>Full Time</td>\n",
       "      <td>SDE</td>\n",
       "    </tr>\n",
       "    <tr>\n",
       "      <th>12342</th>\n",
       "      <td>3.8</td>\n",
       "      <td>Amazon</td>\n",
       "      <td>Software Development Engineer</td>\n",
       "      <td>5700000</td>\n",
       "      <td>353</td>\n",
       "      <td>Bangalore</td>\n",
       "      <td>Full Time</td>\n",
       "      <td>SDE</td>\n",
       "    </tr>\n",
       "    <tr>\n",
       "      <th>17784</th>\n",
       "      <td>3.6</td>\n",
       "      <td>Be A Champion</td>\n",
       "      <td>Software Development Engineer</td>\n",
       "      <td>5100000</td>\n",
       "      <td>1</td>\n",
       "      <td>New Delhi</td>\n",
       "      <td>Full Time</td>\n",
       "      <td>SDE</td>\n",
       "    </tr>\n",
       "    <tr>\n",
       "      <th>17337</th>\n",
       "      <td>3.7</td>\n",
       "      <td>NCR</td>\n",
       "      <td>Software Development Engineer</td>\n",
       "      <td>4900000</td>\n",
       "      <td>1</td>\n",
       "      <td>New Delhi</td>\n",
       "      <td>Full Time</td>\n",
       "      <td>SDE</td>\n",
       "    </tr>\n",
       "    <tr>\n",
       "      <th>13160</th>\n",
       "      <td>3.9</td>\n",
       "      <td>mChek</td>\n",
       "      <td>Software Development Engineer</td>\n",
       "      <td>4800000</td>\n",
       "      <td>1</td>\n",
       "      <td>Bangalore</td>\n",
       "      <td>Full Time</td>\n",
       "      <td>SDE</td>\n",
       "    </tr>\n",
       "    <tr>\n",
       "      <th>14750</th>\n",
       "      <td>3.6</td>\n",
       "      <td>MSF Technologies</td>\n",
       "      <td>Software Development Engineer</td>\n",
       "      <td>4700000</td>\n",
       "      <td>1</td>\n",
       "      <td>Hyderabad</td>\n",
       "      <td>Full Time</td>\n",
       "      <td>SDE</td>\n",
       "    </tr>\n",
       "    <tr>\n",
       "      <th>13982</th>\n",
       "      <td>4.4</td>\n",
       "      <td>NYU (New York University)</td>\n",
       "      <td>Software Development Engineer</td>\n",
       "      <td>4400000</td>\n",
       "      <td>1</td>\n",
       "      <td>Chennai</td>\n",
       "      <td>Full Time</td>\n",
       "      <td>SDE</td>\n",
       "    </tr>\n",
       "    <tr>\n",
       "      <th>17641</th>\n",
       "      <td>4.0</td>\n",
       "      <td>BAV Institut für Hygiene und Qualitätssicherung</td>\n",
       "      <td>Software Development Engineer</td>\n",
       "      <td>4400000</td>\n",
       "      <td>1</td>\n",
       "      <td>New Delhi</td>\n",
       "      <td>Full Time</td>\n",
       "      <td>SDE</td>\n",
       "    </tr>\n",
       "  </tbody>\n",
       "</table>\n",
       "</div>"
      ],
      "text/plain": [
       "       Rating                                     Company Name  \\\n",
       "13615     3.5                                       ArisGlobal   \n",
       "14835     4.1                                       ChinesePod   \n",
       "16485     4.0                                    Silicon Veins   \n",
       "12342     3.8                                           Amazon   \n",
       "17784     3.6                                    Be A Champion   \n",
       "17337     3.7                                              NCR   \n",
       "13160     3.9                                            mChek   \n",
       "14750     3.6                                 MSF Technologies   \n",
       "13982     4.4                        NYU (New York University)   \n",
       "17641     4.0  BAV Institut für Hygiene und Qualitätssicherung   \n",
       "\n",
       "                           Job Title   Salary  Salaries Reported   Location  \\\n",
       "13615  Software Development Engineer  8700000                  1  Bangalore   \n",
       "14835  Software Development Engineer  8000000                  1  Hyderabad   \n",
       "16485  Software Development Engineer  5900000                  1     Mumbai   \n",
       "12342  Software Development Engineer  5700000                353  Bangalore   \n",
       "17784  Software Development Engineer  5100000                  1  New Delhi   \n",
       "17337  Software Development Engineer  4900000                  1  New Delhi   \n",
       "13160  Software Development Engineer  4800000                  1  Bangalore   \n",
       "14750  Software Development Engineer  4700000                  1  Hyderabad   \n",
       "13982  Software Development Engineer  4400000                  1    Chennai   \n",
       "17641  Software Development Engineer  4400000                  1  New Delhi   \n",
       "\n",
       "      Employment Status Job Roles  \n",
       "13615         Full Time       SDE  \n",
       "14835         Full Time       SDE  \n",
       "16485         Full Time       SDE  \n",
       "12342         Full Time       SDE  \n",
       "17784         Full Time       SDE  \n",
       "17337         Full Time       SDE  \n",
       "13160         Full Time       SDE  \n",
       "14750         Full Time       SDE  \n",
       "13982         Full Time       SDE  \n",
       "17641         Full Time       SDE  "
      ]
     },
     "execution_count": 20,
     "metadata": {},
     "output_type": "execute_result"
    }
   ],
   "source": [
    "SDE_review = salary_review[salary_review['Job Title'] == \"Software Development Engineer\"]\n",
    "SDE_review.sort_values(by=['Salary'], ascending=False).head(10)"
   ]
  },
  {
   "cell_type": "code",
   "execution_count": 21,
   "id": "08a9ec11",
   "metadata": {},
   "outputs": [
    {
     "data": {
      "text/plain": [
       "Job Title\n",
       "Lead Backend Engineer - Intern                        5.0\n",
       "Android & Flutter Developer - Intern                  5.0\n",
       "Software Engineer(PHP, Python, React, Laravel, Js)    5.0\n",
       "Mobile Phone Repair Technician                        5.0\n",
       "Lead Python Developer (Data Science)                  5.0\n",
       "Software Engineer ( Java )                            5.0\n",
       "Senior IOS Developer Contractor                       5.0\n",
       "Front End Development Manager                         5.0\n",
       "Python Lead Developer                                 5.0\n",
       "Level II Mobile Technician                            5.0\n",
       "Name: Rating, dtype: float64"
      ]
     },
     "execution_count": 21,
     "metadata": {},
     "output_type": "execute_result"
    }
   ],
   "source": [
    "job_title_by_rating = salary_review.groupby(['Job Title'])['Rating'].mean().sort_values(ascending=False)\n",
    "job_title_by_rating.head(10)"
   ]
  },
  {
   "cell_type": "code",
   "execution_count": 22,
   "id": "b0a3da96",
   "metadata": {},
   "outputs": [
    {
     "data": {
      "text/plain": [
       "Tata Consultancy Services         271\n",
       "Amazon                            184\n",
       "Infosys                           169\n",
       "Accenture                         150\n",
       "Cognizant Technology Solutions    144\n",
       "                                 ... \n",
       "Talent Anywhere                     1\n",
       "WisdmLabs                           1\n",
       "Softdel                             1\n",
       "Dentsu                              1\n",
       "Nextgen Innovation Labs             1\n",
       "Name: Company Name, Length: 11261, dtype: int64"
      ]
     },
     "execution_count": 22,
     "metadata": {},
     "output_type": "execute_result"
    }
   ],
   "source": [
    "count_company = salary_review['Company Name'].value_counts()\n",
    "count_company"
   ]
  },
  {
   "cell_type": "code",
   "execution_count": 23,
   "id": "8927bbe5",
   "metadata": {},
   "outputs": [
    {
     "data": {
      "text/plain": [
       "<AxesSubplot:title={'center':'Number of jobs in Company'}>"
      ]
     },
     "execution_count": 23,
     "metadata": {},
     "output_type": "execute_result"
    },
    {
     "data": {
      "image/png": "[encoded data removed]",
      "text/plain": [
       "<Figure size 432x288 with 1 Axes>"
      ]
     },
     "metadata": {
      "needs_background": "light"
     },
     "output_type": "display_data"
    }
   ],
   "source": [
    "count_company.head(10).plot(kind = 'bar', title = 'Number of jobs in Company')"
   ]
  },
  {
   "cell_type": "code",
   "execution_count": 24,
   "id": "f875522f",
   "metadata": {},
   "outputs": [
    {
     "data": {
      "text/plain": [
       "'Tata Consultancy Services'"
      ]
     },
     "execution_count": 24,
     "metadata": {},
     "output_type": "execute_result"
    }
   ],
   "source": [
    "top_company = count_company.idxmax()\n",
    "top_company"
   ]
  },
  {
   "cell_type": "code",
   "execution_count": 25,
   "id": "85d8db7c",
   "metadata": {},
   "outputs": [
    {
     "data": {
      "text/plain": [
       "Walstar Technologies                1\n",
       "M3bi                                1\n",
       "Digital Convergence Technologies    1\n",
       "ThinkBumblebee Analytics            1\n",
       "Brainstorm Force                    1\n",
       "Talent Anywhere                     1\n",
       "WisdmLabs                           1\n",
       "Softdel                             1\n",
       "Dentsu                              1\n",
       "Nextgen Innovation Labs             1\n",
       "Name: Company Name, dtype: int64"
      ]
     },
     "execution_count": 25,
     "metadata": {},
     "output_type": "execute_result"
    }
   ],
   "source": [
    "tail_company = count_company.tail(10)\n",
    "tail_company"
   ]
  },
  {
   "cell_type": "code",
   "execution_count": 26,
   "id": "d09bde4d",
   "metadata": {},
   "outputs": [
    {
     "data": {
      "text/html": [
       "<div>\n",
       "<style scoped>\n",
       "    .dataframe tbody tr th:only-of-type {\n",
       "        vertical-align: middle;\n",
       "    }\n",
       "\n",
       "    .dataframe tbody tr th {\n",
       "        vertical-align: top;\n",
       "    }\n",
       "\n",
       "    .dataframe thead th {\n",
       "        text-align: right;\n",
       "    }\n",
       "</style>\n",
       "<table border=\"1\" class=\"dataframe\">\n",
       "  <thead>\n",
       "    <tr style=\"text-align: right;\">\n",
       "      <th></th>\n",
       "      <th>Rating</th>\n",
       "      <th>Company Name</th>\n",
       "      <th>Job Title</th>\n",
       "      <th>Salary</th>\n",
       "      <th>Salaries Reported</th>\n",
       "      <th>Location</th>\n",
       "      <th>Employment Status</th>\n",
       "      <th>Job Roles</th>\n",
       "    </tr>\n",
       "  </thead>\n",
       "  <tbody>\n",
       "    <tr>\n",
       "      <th>22766</th>\n",
       "      <td>4.0</td>\n",
       "      <td>Nextgen Innovation Labs</td>\n",
       "      <td>Web Developer</td>\n",
       "      <td>300000</td>\n",
       "      <td>1</td>\n",
       "      <td>Bangalore</td>\n",
       "      <td>Full Time</td>\n",
       "      <td>Web</td>\n",
       "    </tr>\n",
       "  </tbody>\n",
       "</table>\n",
       "</div>"
      ],
      "text/plain": [
       "       Rating             Company Name      Job Title  Salary  \\\n",
       "22766     4.0  Nextgen Innovation Labs  Web Developer  300000   \n",
       "\n",
       "       Salaries Reported   Location Employment Status Job Roles  \n",
       "22766                  1  Bangalore         Full Time       Web  "
      ]
     },
     "execution_count": 26,
     "metadata": {},
     "output_type": "execute_result"
    }
   ],
   "source": [
    "last_company_info = salary_review[salary_review['Company Name'] == 'Nextgen Innovation Labs']\n",
    "last_company_info"
   ]
  },
  {
   "cell_type": "code",
   "execution_count": 27,
   "id": "43123e3f",
   "metadata": {},
   "outputs": [
    {
     "data": {
      "text/plain": [
       "['Full Time', 'Intern', 'Contractor', 'Trainee']"
      ]
     },
     "execution_count": 27,
     "metadata": {},
     "output_type": "execute_result"
    }
   ],
   "source": [
    "unique_employment_status = salary_review['Employment Status'].unique().tolist()\n",
    "unique_employment_status"
   ]
  },
  {
   "cell_type": "code",
   "execution_count": 28,
   "id": "a927ee76",
   "metadata": {
    "scrolled": true
   },
   "outputs": [
    {
     "data": {
      "text/html": [
       "<div>\n",
       "<style scoped>\n",
       "    .dataframe tbody tr th:only-of-type {\n",
       "        vertical-align: middle;\n",
       "    }\n",
       "\n",
       "    .dataframe tbody tr th {\n",
       "        vertical-align: top;\n",
       "    }\n",
       "\n",
       "    .dataframe thead th {\n",
       "        text-align: right;\n",
       "    }\n",
       "</style>\n",
       "<table border=\"1\" class=\"dataframe\">\n",
       "  <thead>\n",
       "    <tr style=\"text-align: right;\">\n",
       "      <th></th>\n",
       "      <th>Rating</th>\n",
       "      <th>Company Name</th>\n",
       "      <th>Job Title</th>\n",
       "      <th>Salary</th>\n",
       "      <th>Salaries Reported</th>\n",
       "      <th>Location</th>\n",
       "      <th>Employment Status</th>\n",
       "      <th>Job Roles</th>\n",
       "    </tr>\n",
       "  </thead>\n",
       "  <tbody>\n",
       "    <tr>\n",
       "      <th>2893</th>\n",
       "      <td>3.8</td>\n",
       "      <td>‎eNotice Ninja Pluss</td>\n",
       "      <td>Android Developer</td>\n",
       "      <td>400000</td>\n",
       "      <td>1</td>\n",
       "      <td>Pune</td>\n",
       "      <td>Full Time</td>\n",
       "      <td>Android</td>\n",
       "    </tr>\n",
       "    <tr>\n",
       "      <th>17546</th>\n",
       "      <td>4.5</td>\n",
       "      <td>​App-Scoop</td>\n",
       "      <td>Software Development Engineer</td>\n",
       "      <td>500000</td>\n",
       "      <td>1</td>\n",
       "      <td>New Delhi</td>\n",
       "      <td>Full Time</td>\n",
       "      <td>SDE</td>\n",
       "    </tr>\n",
       "    <tr>\n",
       "      <th>6314</th>\n",
       "      <td>3.5</td>\n",
       "      <td>Órama</td>\n",
       "      <td>Front End Developer</td>\n",
       "      <td>1200000</td>\n",
       "      <td>1</td>\n",
       "      <td>Hyderabad</td>\n",
       "      <td>Full Time</td>\n",
       "      <td>Frontend</td>\n",
       "    </tr>\n",
       "    <tr>\n",
       "      <th>18159</th>\n",
       "      <td>3.6</td>\n",
       "      <td>Ás Formaturas</td>\n",
       "      <td>Software Development Engineer I</td>\n",
       "      <td>900000</td>\n",
       "      <td>1</td>\n",
       "      <td>New Delhi</td>\n",
       "      <td>Full Time</td>\n",
       "      <td>SDE</td>\n",
       "    </tr>\n",
       "    <tr>\n",
       "      <th>12406</th>\n",
       "      <td>4.5</td>\n",
       "      <td>zDistanceLab</td>\n",
       "      <td>Software Development Engineer</td>\n",
       "      <td>180000</td>\n",
       "      <td>1</td>\n",
       "      <td>Bangalore</td>\n",
       "      <td>Full Time</td>\n",
       "      <td>SDE</td>\n",
       "    </tr>\n",
       "    <tr>\n",
       "      <th>8571</th>\n",
       "      <td>3.8</td>\n",
       "      <td>zCon Solutions</td>\n",
       "      <td>IOS Developer</td>\n",
       "      <td>300000</td>\n",
       "      <td>1</td>\n",
       "      <td>Pune</td>\n",
       "      <td>Full Time</td>\n",
       "      <td>IOS</td>\n",
       "    </tr>\n",
       "    <tr>\n",
       "      <th>19019</th>\n",
       "      <td>3.8</td>\n",
       "      <td>zCon Solutions</td>\n",
       "      <td>Software Development Engineer</td>\n",
       "      <td>360000</td>\n",
       "      <td>1</td>\n",
       "      <td>Pune</td>\n",
       "      <td>Full Time</td>\n",
       "      <td>SDE</td>\n",
       "    </tr>\n",
       "    <tr>\n",
       "      <th>14474</th>\n",
       "      <td>4.1</td>\n",
       "      <td>yes</td>\n",
       "      <td>Senior Software Development Engineer TEST</td>\n",
       "      <td>500000</td>\n",
       "      <td>1</td>\n",
       "      <td>Chennai</td>\n",
       "      <td>Full Time</td>\n",
       "      <td>SDE</td>\n",
       "    </tr>\n",
       "    <tr>\n",
       "      <th>12026</th>\n",
       "      <td>4.3</td>\n",
       "      <td>yellow.ai</td>\n",
       "      <td>Software Development Engineer (SDE)</td>\n",
       "      <td>400000</td>\n",
       "      <td>7</td>\n",
       "      <td>Bangalore</td>\n",
       "      <td>Full Time</td>\n",
       "      <td>SDE</td>\n",
       "    </tr>\n",
       "    <tr>\n",
       "      <th>13728</th>\n",
       "      <td>4.3</td>\n",
       "      <td>yellow.ai</td>\n",
       "      <td>Software Development Engineer</td>\n",
       "      <td>700000</td>\n",
       "      <td>4</td>\n",
       "      <td>Bangalore</td>\n",
       "      <td>Full Time</td>\n",
       "      <td>SDE</td>\n",
       "    </tr>\n",
       "    <tr>\n",
       "      <th>12257</th>\n",
       "      <td>4.3</td>\n",
       "      <td>yellow.ai</td>\n",
       "      <td>Software Development Engineer I</td>\n",
       "      <td>1300000</td>\n",
       "      <td>2</td>\n",
       "      <td>Bangalore</td>\n",
       "      <td>Full Time</td>\n",
       "      <td>SDE</td>\n",
       "    </tr>\n",
       "    <tr>\n",
       "      <th>21204</th>\n",
       "      <td>3.9</td>\n",
       "      <td>y</td>\n",
       "      <td>Test Engineer</td>\n",
       "      <td>500000</td>\n",
       "      <td>1</td>\n",
       "      <td>Bangalore</td>\n",
       "      <td>Full Time</td>\n",
       "      <td>Testing</td>\n",
       "    </tr>\n",
       "    <tr>\n",
       "      <th>21926</th>\n",
       "      <td>4.0</td>\n",
       "      <td>xdcfdsfwec</td>\n",
       "      <td>Web Developer</td>\n",
       "      <td>576000</td>\n",
       "      <td>1</td>\n",
       "      <td>Bangalore</td>\n",
       "      <td>Full Time</td>\n",
       "      <td>Web</td>\n",
       "    </tr>\n",
       "    <tr>\n",
       "      <th>16792</th>\n",
       "      <td>3.9</td>\n",
       "      <td>xcvghbjnm</td>\n",
       "      <td>Software Development Engineer (SDE)</td>\n",
       "      <td>1500000</td>\n",
       "      <td>1</td>\n",
       "      <td>Mumbai</td>\n",
       "      <td>Full Time</td>\n",
       "      <td>SDE</td>\n",
       "    </tr>\n",
       "    <tr>\n",
       "      <th>6014</th>\n",
       "      <td>4.0</td>\n",
       "      <td>work near home</td>\n",
       "      <td>Front End Developer</td>\n",
       "      <td>200000</td>\n",
       "      <td>1</td>\n",
       "      <td>Chennai</td>\n",
       "      <td>Full Time</td>\n",
       "      <td>Frontend</td>\n",
       "    </tr>\n",
       "  </tbody>\n",
       "</table>\n",
       "</div>"
      ],
      "text/plain": [
       "       Rating          Company Name  \\\n",
       "2893      3.8  ‎eNotice Ninja Pluss   \n",
       "17546     4.5            ​App-Scoop   \n",
       "6314      3.5                 Órama   \n",
       "18159     3.6         Ás Formaturas   \n",
       "12406     4.5          zDistanceLab   \n",
       "8571      3.8        zCon Solutions   \n",
       "19019     3.8        zCon Solutions   \n",
       "14474     4.1                   yes   \n",
       "12026     4.3             yellow.ai   \n",
       "13728     4.3             yellow.ai   \n",
       "12257     4.3             yellow.ai   \n",
       "21204     3.9                     y   \n",
       "21926     4.0            xdcfdsfwec   \n",
       "16792     3.9             xcvghbjnm   \n",
       "6014      4.0        work near home   \n",
       "\n",
       "                                       Job Title   Salary  Salaries Reported  \\\n",
       "2893                           Android Developer   400000                  1   \n",
       "17546              Software Development Engineer   500000                  1   \n",
       "6314                         Front End Developer  1200000                  1   \n",
       "18159            Software Development Engineer I   900000                  1   \n",
       "12406              Software Development Engineer   180000                  1   \n",
       "8571                               IOS Developer   300000                  1   \n",
       "19019              Software Development Engineer   360000                  1   \n",
       "14474  Senior Software Development Engineer TEST   500000                  1   \n",
       "12026        Software Development Engineer (SDE)   400000                  7   \n",
       "13728              Software Development Engineer   700000                  4   \n",
       "12257            Software Development Engineer I  1300000                  2   \n",
       "21204                              Test Engineer   500000                  1   \n",
       "21926                              Web Developer   576000                  1   \n",
       "16792        Software Development Engineer (SDE)  1500000                  1   \n",
       "6014                         Front End Developer   200000                  1   \n",
       "\n",
       "        Location Employment Status Job Roles  \n",
       "2893        Pune         Full Time   Android  \n",
       "17546  New Delhi         Full Time       SDE  \n",
       "6314   Hyderabad         Full Time  Frontend  \n",
       "18159  New Delhi         Full Time       SDE  \n",
       "12406  Bangalore         Full Time       SDE  \n",
       "8571        Pune         Full Time       IOS  \n",
       "19019       Pune         Full Time       SDE  \n",
       "14474    Chennai         Full Time       SDE  \n",
       "12026  Bangalore         Full Time       SDE  \n",
       "13728  Bangalore         Full Time       SDE  \n",
       "12257  Bangalore         Full Time       SDE  \n",
       "21204  Bangalore         Full Time   Testing  \n",
       "21926  Bangalore         Full Time       Web  \n",
       "16792     Mumbai         Full Time       SDE  \n",
       "6014     Chennai         Full Time  Frontend  "
      ]
     },
     "execution_count": 28,
     "metadata": {},
     "output_type": "execute_result"
    }
   ],
   "source": [
    "full_time_review = salary_review[salary_review['Employment Status'] == \"Full Time\"]\n",
    "full_time_review.sort_values(by=['Company Name'], ascending=False).head(15)"
   ]
  },
  {
   "cell_type": "code",
   "execution_count": 29,
   "id": "d0589189",
   "metadata": {},
   "outputs": [
    {
     "data": {
      "text/plain": [
       "Bangalore         8264\n",
       "Hyderabad         4467\n",
       "New Delhi         4176\n",
       "Chennai           2458\n",
       "Pune              2134\n",
       "Mumbai             749\n",
       "Kolkata            178\n",
       "Madhya Pradesh     155\n",
       "Kerala             108\n",
       "Jaipur              81\n",
       "Name: Location, dtype: int64"
      ]
     },
     "execution_count": 29,
     "metadata": {},
     "output_type": "execute_result"
    }
   ],
   "source": [
    "count_location = salary_review['Location'].value_counts()\n",
    "count_location"
   ]
  },
  {
   "cell_type": "code",
   "execution_count": 30,
   "id": "5ae48bf4",
   "metadata": {},
   "outputs": [
    {
     "data": {
      "text/html": [
       "<div>\n",
       "<style scoped>\n",
       "    .dataframe tbody tr th:only-of-type {\n",
       "        vertical-align: middle;\n",
       "    }\n",
       "\n",
       "    .dataframe tbody tr th {\n",
       "        vertical-align: top;\n",
       "    }\n",
       "\n",
       "    .dataframe thead th {\n",
       "        text-align: right;\n",
       "    }\n",
       "</style>\n",
       "<table border=\"1\" class=\"dataframe\">\n",
       "  <thead>\n",
       "    <tr style=\"text-align: right;\">\n",
       "      <th></th>\n",
       "      <th>Location</th>\n",
       "      <th>Salary</th>\n",
       "    </tr>\n",
       "  </thead>\n",
       "  <tbody>\n",
       "    <tr>\n",
       "      <th>0</th>\n",
       "      <td>Bangalore</td>\n",
       "      <td>6076888928</td>\n",
       "    </tr>\n",
       "    <tr>\n",
       "      <th>2</th>\n",
       "      <td>Hyderabad</td>\n",
       "      <td>3033535936</td>\n",
       "    </tr>\n",
       "    <tr>\n",
       "      <th>8</th>\n",
       "      <td>New Delhi</td>\n",
       "      <td>2750968128</td>\n",
       "    </tr>\n",
       "    <tr>\n",
       "      <th>9</th>\n",
       "      <td>Pune</td>\n",
       "      <td>1473476448</td>\n",
       "    </tr>\n",
       "    <tr>\n",
       "      <th>1</th>\n",
       "      <td>Chennai</td>\n",
       "      <td>1436847648</td>\n",
       "    </tr>\n",
       "    <tr>\n",
       "      <th>7</th>\n",
       "      <td>Mumbai</td>\n",
       "      <td>719924096</td>\n",
       "    </tr>\n",
       "    <tr>\n",
       "      <th>5</th>\n",
       "      <td>Kolkata</td>\n",
       "      <td>126544752</td>\n",
       "    </tr>\n",
       "    <tr>\n",
       "      <th>6</th>\n",
       "      <td>Madhya Pradesh</td>\n",
       "      <td>105034496</td>\n",
       "    </tr>\n",
       "    <tr>\n",
       "      <th>4</th>\n",
       "      <td>Kerala</td>\n",
       "      <td>59786368</td>\n",
       "    </tr>\n",
       "    <tr>\n",
       "      <th>3</th>\n",
       "      <td>Jaipur</td>\n",
       "      <td>50960000</td>\n",
       "    </tr>\n",
       "  </tbody>\n",
       "</table>\n",
       "</div>"
      ],
      "text/plain": [
       "         Location      Salary\n",
       "0       Bangalore  6076888928\n",
       "2       Hyderabad  3033535936\n",
       "8       New Delhi  2750968128\n",
       "9            Pune  1473476448\n",
       "1         Chennai  1436847648\n",
       "7          Mumbai   719924096\n",
       "5         Kolkata   126544752\n",
       "6  Madhya Pradesh   105034496\n",
       "4          Kerala    59786368\n",
       "3          Jaipur    50960000"
      ]
     },
     "execution_count": 30,
     "metadata": {},
     "output_type": "execute_result"
    }
   ],
   "source": [
    "salary_by_location = salary_review.groupby(['Location'], as_index=False)['Salary'].sum()\n",
    "salary_by_location.sort_values(by=['Salary'], ascending=False)"
   ]
  },
  {
   "cell_type": "code",
   "execution_count": 31,
   "id": "7f7f1a93",
   "metadata": {},
   "outputs": [
    {
     "data": {
      "text/plain": [
       "<AxesSubplot:title={'center':'Salary by Location'}, ylabel='Location'>"
      ]
     },
     "execution_count": 31,
     "metadata": {},
     "output_type": "execute_result"
    },
    {
     "data": {
      "image/png": "[encoded data removed]",
      "text/plain": [
       "<Figure size 432x288 with 1 Axes>"
      ]
     },
     "metadata": {
      "needs_background": "light"
     },
     "output_type": "display_data"
    }
   ],
   "source": [
    "salary_by_location.plot(kind = 'barh', title = 'Salary by Location', x = 'Location', y ='Salary')"
   ]
  },
  {
   "cell_type": "code",
   "execution_count": 32,
   "id": "523d7659",
   "metadata": {},
   "outputs": [
    {
     "data": {
      "text/plain": [
       "316"
      ]
     },
     "execution_count": 32,
     "metadata": {},
     "output_type": "execute_result"
    }
   ],
   "source": [
    "unique_salary = salary_review['Salary'].unique().size\n",
    "unique_salary"
   ]
  },
  {
   "cell_type": "code",
   "execution_count": 33,
   "id": "382430f8",
   "metadata": {},
   "outputs": [
    {
     "data": {
      "text/plain": [
       "300000     1783\n",
       "400000     1697\n",
       "500000     1599\n",
       "600000     1381\n",
       "200000     1084\n",
       "           ... \n",
       "580800        1\n",
       "1239744       1\n",
       "63360         1\n",
       "1034880       1\n",
       "2016960       1\n",
       "Name: Salary, Length: 316, dtype: int64"
      ]
     },
     "execution_count": 33,
     "metadata": {},
     "output_type": "execute_result"
    }
   ],
   "source": [
    "count_salary = salary_review['Salary'].value_counts()\n",
    "count_salary"
   ]
  },
  {
   "cell_type": "code",
   "execution_count": 34,
   "id": "ed789f11",
   "metadata": {},
   "outputs": [
    {
     "data": {
      "text/plain": [
       "Text(0, 0.5, '$')"
      ]
     },
     "execution_count": 34,
     "metadata": {},
     "output_type": "execute_result"
    },
    {
     "data": {
      "image/png": "[encoded data removed]",
      "text/plain": [
       "<Figure size 432x288 with 1 Axes>"
      ]
     },
     "metadata": {
      "needs_background": "light"
     },
     "output_type": "display_data"
    }
   ],
   "source": [
    "count_salary.head(10).plot(kind = 'bar', title = 'Salary TOP').set_ylabel('$')"
   ]
  },
  {
   "cell_type": "code",
   "execution_count": 35,
   "id": "7f0ccebd",
   "metadata": {},
   "outputs": [
    {
     "data": {
      "text/plain": [
       "300000"
      ]
     },
     "execution_count": 35,
     "metadata": {},
     "output_type": "execute_result"
    }
   ],
   "source": [
    "top_salary = count_salary.idxmax()\n",
    "top_salary"
   ]
  },
  {
   "cell_type": "code",
   "execution_count": 36,
   "id": "dfa94cf5",
   "metadata": {},
   "outputs": [
    {
     "data": {
      "text/html": [
       "<div>\n",
       "<style scoped>\n",
       "    .dataframe tbody tr th:only-of-type {\n",
       "        vertical-align: middle;\n",
       "    }\n",
       "\n",
       "    .dataframe tbody tr th {\n",
       "        vertical-align: top;\n",
       "    }\n",
       "\n",
       "    .dataframe thead th {\n",
       "        text-align: right;\n",
       "    }\n",
       "</style>\n",
       "<table border=\"1\" class=\"dataframe\">\n",
       "  <thead>\n",
       "    <tr style=\"text-align: right;\">\n",
       "      <th></th>\n",
       "      <th>max</th>\n",
       "      <th>min</th>\n",
       "    </tr>\n",
       "    <tr>\n",
       "      <th>Company Name</th>\n",
       "      <th></th>\n",
       "      <th></th>\n",
       "    </tr>\n",
       "  </thead>\n",
       "  <tbody>\n",
       "    <tr>\n",
       "      <th>Thapar University</th>\n",
       "      <td>90000000</td>\n",
       "      <td>90000000</td>\n",
       "    </tr>\n",
       "    <tr>\n",
       "      <th>OASYS Cybernetics</th>\n",
       "      <td>10000000</td>\n",
       "      <td>240000</td>\n",
       "    </tr>\n",
       "    <tr>\n",
       "      <th>Concentrix</th>\n",
       "      <td>10000000</td>\n",
       "      <td>180000</td>\n",
       "    </tr>\n",
       "    <tr>\n",
       "      <th>Koru UX Design</th>\n",
       "      <td>10000000</td>\n",
       "      <td>900000</td>\n",
       "    </tr>\n",
       "    <tr>\n",
       "      <th>Nityo Infotech</th>\n",
       "      <td>9900000</td>\n",
       "      <td>500000</td>\n",
       "    </tr>\n",
       "    <tr>\n",
       "      <th>Amazon</th>\n",
       "      <td>9850000</td>\n",
       "      <td>33792</td>\n",
       "    </tr>\n",
       "    <tr>\n",
       "      <th>FFF Enterprises</th>\n",
       "      <td>9800000</td>\n",
       "      <td>9800000</td>\n",
       "    </tr>\n",
       "    <tr>\n",
       "      <th>Digital Raju</th>\n",
       "      <td>9800000</td>\n",
       "      <td>9800000</td>\n",
       "    </tr>\n",
       "    <tr>\n",
       "      <th>Gaana Lyrics Point.com</th>\n",
       "      <td>9700000</td>\n",
       "      <td>9700000</td>\n",
       "    </tr>\n",
       "    <tr>\n",
       "      <th>GGH Heavy Industries</th>\n",
       "      <td>9600000</td>\n",
       "      <td>9600000</td>\n",
       "    </tr>\n",
       "  </tbody>\n",
       "</table>\n",
       "</div>"
      ],
      "text/plain": [
       "                             max       min\n",
       "Company Name                              \n",
       "Thapar University       90000000  90000000\n",
       "OASYS Cybernetics       10000000    240000\n",
       "Concentrix              10000000    180000\n",
       "Koru UX Design          10000000    900000\n",
       "Nityo Infotech           9900000    500000\n",
       "Amazon                   9850000     33792\n",
       "FFF Enterprises          9800000   9800000\n",
       "Digital Raju             9800000   9800000\n",
       "Gaana Lyrics Point.com   9700000   9700000\n",
       "GGH Heavy Industries     9600000   9600000"
      ]
     },
     "execution_count": 36,
     "metadata": {},
     "output_type": "execute_result"
    }
   ],
   "source": [
    "max_min_salary_by_company = salary_review.groupby('Company Name')['Salary'].agg(['max', 'min'])\n",
    "max_min_salary_by_company.sort_values(by=['max'], ascending=False).head(10)"
   ]
  },
  {
   "cell_type": "code",
   "execution_count": 37,
   "id": "f94e8c7b",
   "metadata": {},
   "outputs": [
    {
     "data": {
      "text/html": [
       "<div>\n",
       "<style scoped>\n",
       "    .dataframe tbody tr th:only-of-type {\n",
       "        vertical-align: middle;\n",
       "    }\n",
       "\n",
       "    .dataframe tbody tr th {\n",
       "        vertical-align: top;\n",
       "    }\n",
       "\n",
       "    .dataframe thead th {\n",
       "        text-align: right;\n",
       "    }\n",
       "</style>\n",
       "<table border=\"1\" class=\"dataframe\">\n",
       "  <thead>\n",
       "    <tr style=\"text-align: right;\">\n",
       "      <th></th>\n",
       "      <th>max</th>\n",
       "      <th>min</th>\n",
       "    </tr>\n",
       "    <tr>\n",
       "      <th>Job Title</th>\n",
       "      <th></th>\n",
       "      <th></th>\n",
       "    </tr>\n",
       "  </thead>\n",
       "  <tbody>\n",
       "    <tr>\n",
       "      <th>Software Development Engineer (SDE)</th>\n",
       "      <td>90000000</td>\n",
       "      <td>12000</td>\n",
       "    </tr>\n",
       "    <tr>\n",
       "      <th>Oracle Database Administrator</th>\n",
       "      <td>10000000</td>\n",
       "      <td>100000</td>\n",
       "    </tr>\n",
       "    <tr>\n",
       "      <th>Senior Java Developer</th>\n",
       "      <td>10000000</td>\n",
       "      <td>84000</td>\n",
       "    </tr>\n",
       "    <tr>\n",
       "      <th>Senior Front End Developer</th>\n",
       "      <td>10000000</td>\n",
       "      <td>100000</td>\n",
       "    </tr>\n",
       "    <tr>\n",
       "      <th>Lead UI Designer, Magento Front-end Developer</th>\n",
       "      <td>9900000</td>\n",
       "      <td>9900000</td>\n",
       "    </tr>\n",
       "    <tr>\n",
       "      <th>Non Software Development Engineer</th>\n",
       "      <td>9800000</td>\n",
       "      <td>9800000</td>\n",
       "    </tr>\n",
       "    <tr>\n",
       "      <th>Software Development Engineer (SDE) II</th>\n",
       "      <td>9700000</td>\n",
       "      <td>100000</td>\n",
       "    </tr>\n",
       "    <tr>\n",
       "      <th>Best Buy Mobile Sales Associate</th>\n",
       "      <td>9600000</td>\n",
       "      <td>228000</td>\n",
       "    </tr>\n",
       "    <tr>\n",
       "      <th>Software Development Engineer In Test (SDET)</th>\n",
       "      <td>9400000</td>\n",
       "      <td>33792</td>\n",
       "    </tr>\n",
       "    <tr>\n",
       "      <th>Software Development Engineer</th>\n",
       "      <td>8700000</td>\n",
       "      <td>12000</td>\n",
       "    </tr>\n",
       "  </tbody>\n",
       "</table>\n",
       "</div>"
      ],
      "text/plain": [
       "                                                    max      min\n",
       "Job Title                                                       \n",
       "Software Development Engineer (SDE)            90000000    12000\n",
       "Oracle Database Administrator                  10000000   100000\n",
       "Senior Java Developer                          10000000    84000\n",
       "Senior Front End Developer                     10000000   100000\n",
       "Lead UI Designer, Magento Front-end Developer   9900000  9900000\n",
       "Non Software Development Engineer               9800000  9800000\n",
       "Software Development Engineer (SDE) II          9700000   100000\n",
       "Best Buy Mobile Sales Associate                 9600000   228000\n",
       "Software Development Engineer In Test (SDET)    9400000    33792\n",
       "Software Development Engineer                   8700000    12000"
      ]
     },
     "execution_count": 37,
     "metadata": {},
     "output_type": "execute_result"
    }
   ],
   "source": [
    "max_min_salary_by_job_title = salary_review.groupby('Job Title')['Salary'].agg(['max', 'min'])\n",
    "max_min_salary_by_job_title.sort_values(by=['max'], ascending=False).head(10)"
   ]
  },
  {
   "cell_type": "code",
   "execution_count": 38,
   "id": "f13908b8",
   "metadata": {},
   "outputs": [
    {
     "data": {
      "text/html": [
       "<div>\n",
       "<style scoped>\n",
       "    .dataframe tbody tr th:only-of-type {\n",
       "        vertical-align: middle;\n",
       "    }\n",
       "\n",
       "    .dataframe tbody tr th {\n",
       "        vertical-align: top;\n",
       "    }\n",
       "\n",
       "    .dataframe thead th {\n",
       "        text-align: right;\n",
       "    }\n",
       "</style>\n",
       "<table border=\"1\" class=\"dataframe\">\n",
       "  <thead>\n",
       "    <tr style=\"text-align: right;\">\n",
       "      <th></th>\n",
       "      <th>max</th>\n",
       "      <th>min</th>\n",
       "      <th>mean</th>\n",
       "    </tr>\n",
       "    <tr>\n",
       "      <th>Location</th>\n",
       "      <th></th>\n",
       "      <th></th>\n",
       "      <th></th>\n",
       "    </tr>\n",
       "  </thead>\n",
       "  <tbody>\n",
       "    <tr>\n",
       "      <th>New Delhi</th>\n",
       "      <td>90000000</td>\n",
       "      <td>12000</td>\n",
       "      <td>658756.735632</td>\n",
       "    </tr>\n",
       "    <tr>\n",
       "      <th>Bangalore</th>\n",
       "      <td>10000000</td>\n",
       "      <td>2112</td>\n",
       "      <td>735344.739593</td>\n",
       "    </tr>\n",
       "    <tr>\n",
       "      <th>Chennai</th>\n",
       "      <td>10000000</td>\n",
       "      <td>12000</td>\n",
       "      <td>584559.661513</td>\n",
       "    </tr>\n",
       "    <tr>\n",
       "      <th>Pune</th>\n",
       "      <td>10000000</td>\n",
       "      <td>23232</td>\n",
       "      <td>690476.311153</td>\n",
       "    </tr>\n",
       "    <tr>\n",
       "      <th>Kolkata</th>\n",
       "      <td>9850000</td>\n",
       "      <td>60000</td>\n",
       "      <td>710925.573034</td>\n",
       "    </tr>\n",
       "    <tr>\n",
       "      <th>Mumbai</th>\n",
       "      <td>9800000</td>\n",
       "      <td>12000</td>\n",
       "      <td>961180.368491</td>\n",
       "    </tr>\n",
       "    <tr>\n",
       "      <th>Hyderabad</th>\n",
       "      <td>9700000</td>\n",
       "      <td>8448</td>\n",
       "      <td>679099.157376</td>\n",
       "    </tr>\n",
       "    <tr>\n",
       "      <th>Madhya Pradesh</th>\n",
       "      <td>7800000</td>\n",
       "      <td>96000</td>\n",
       "      <td>677641.909677</td>\n",
       "    </tr>\n",
       "    <tr>\n",
       "      <th>Kerala</th>\n",
       "      <td>2900000</td>\n",
       "      <td>72000</td>\n",
       "      <td>553577.481481</td>\n",
       "    </tr>\n",
       "    <tr>\n",
       "      <th>Jaipur</th>\n",
       "      <td>2500000</td>\n",
       "      <td>36000</td>\n",
       "      <td>629135.802469</td>\n",
       "    </tr>\n",
       "  </tbody>\n",
       "</table>\n",
       "</div>"
      ],
      "text/plain": [
       "                     max    min           mean\n",
       "Location                                      \n",
       "New Delhi       90000000  12000  658756.735632\n",
       "Bangalore       10000000   2112  735344.739593\n",
       "Chennai         10000000  12000  584559.661513\n",
       "Pune            10000000  23232  690476.311153\n",
       "Kolkata          9850000  60000  710925.573034\n",
       "Mumbai           9800000  12000  961180.368491\n",
       "Hyderabad        9700000   8448  679099.157376\n",
       "Madhya Pradesh   7800000  96000  677641.909677\n",
       "Kerala           2900000  72000  553577.481481\n",
       "Jaipur           2500000  36000  629135.802469"
      ]
     },
     "execution_count": 38,
     "metadata": {},
     "output_type": "execute_result"
    }
   ],
   "source": [
    "max_min_salary_by_location = salary_review.groupby('Location')['Salary'].agg(['max', 'min', 'mean'])\n",
    "max_min_salary_by_location.sort_values(by=['max'], ascending=False).head(10)"
   ]
  },
  {
   "cell_type": "code",
   "execution_count": 39,
   "id": "51b4b46c",
   "metadata": {},
   "outputs": [
    {
     "data": {
      "text/plain": [
       "Job Title\n",
       "Lead UI Designer, Magento Front-end Developer    9900000.0\n",
       "Non Software Development Engineer                9800000.0\n",
       "Mobile App Development                           5000000.0\n",
       "Front-end - Intern                               4900000.0\n",
       "Principal Mobile Architect                       4800000.0\n",
       "Name: Salary, dtype: float64"
      ]
     },
     "execution_count": 39,
     "metadata": {},
     "output_type": "execute_result"
    }
   ],
   "source": [
    "average_salary_by_job_title = salary_review.groupby(['Job Title'])['Salary'].mean().sort_values(ascending=False)\n",
    "average_salary_by_job_title.head()"
   ]
  },
  {
   "cell_type": "code",
   "execution_count": 40,
   "id": "dbcc482b",
   "metadata": {},
   "outputs": [
    {
     "data": {
      "text/plain": [
       "Text(0, 0.5, '.mln $')"
      ]
     },
     "execution_count": 40,
     "metadata": {},
     "output_type": "execute_result"
    },
    {
     "data": {
      "image/png": "[encoded data removed]",
      "text/plain": [
       "<Figure size 432x288 with 1 Axes>"
      ]
     },
     "metadata": {
      "needs_background": "light"
     },
     "output_type": "display_data"
    }
   ],
   "source": [
    "average_salary_by_job_title.head(10).plot(kind = 'bar', title = 'Average Salary by Job Title').set_ylabel('.mln $')"
   ]
  },
  {
   "cell_type": "code",
   "execution_count": 41,
   "id": "17b32f50",
   "metadata": {},
   "outputs": [
    {
     "data": {
      "text/html": [
       "<div>\n",
       "<style scoped>\n",
       "    .dataframe tbody tr th:only-of-type {\n",
       "        vertical-align: middle;\n",
       "    }\n",
       "\n",
       "    .dataframe tbody tr th {\n",
       "        vertical-align: top;\n",
       "    }\n",
       "\n",
       "    .dataframe thead th {\n",
       "        text-align: right;\n",
       "    }\n",
       "</style>\n",
       "<table border=\"1\" class=\"dataframe\">\n",
       "  <thead>\n",
       "    <tr style=\"text-align: right;\">\n",
       "      <th></th>\n",
       "      <th>Rating</th>\n",
       "      <th>Company Name</th>\n",
       "      <th>Job Title</th>\n",
       "      <th>Salary</th>\n",
       "      <th>Salaries Reported</th>\n",
       "      <th>Location</th>\n",
       "      <th>Employment Status</th>\n",
       "      <th>Job Roles</th>\n",
       "      <th>Average Salary per month</th>\n",
       "    </tr>\n",
       "  </thead>\n",
       "  <tbody>\n",
       "    <tr>\n",
       "      <th>0</th>\n",
       "      <td>3.8</td>\n",
       "      <td>Sasken</td>\n",
       "      <td>Android Developer</td>\n",
       "      <td>400000</td>\n",
       "      <td>3</td>\n",
       "      <td>Bangalore</td>\n",
       "      <td>Full Time</td>\n",
       "      <td>Android</td>\n",
       "      <td>33333</td>\n",
       "    </tr>\n",
       "    <tr>\n",
       "      <th>1</th>\n",
       "      <td>4.5</td>\n",
       "      <td>Advanced Millennium Technologies</td>\n",
       "      <td>Android Developer</td>\n",
       "      <td>400000</td>\n",
       "      <td>3</td>\n",
       "      <td>Bangalore</td>\n",
       "      <td>Full Time</td>\n",
       "      <td>Android</td>\n",
       "      <td>33333</td>\n",
       "    </tr>\n",
       "    <tr>\n",
       "      <th>2</th>\n",
       "      <td>4.0</td>\n",
       "      <td>Unacademy</td>\n",
       "      <td>Android Developer</td>\n",
       "      <td>1000000</td>\n",
       "      <td>3</td>\n",
       "      <td>Bangalore</td>\n",
       "      <td>Full Time</td>\n",
       "      <td>Android</td>\n",
       "      <td>83333</td>\n",
       "    </tr>\n",
       "    <tr>\n",
       "      <th>3</th>\n",
       "      <td>3.8</td>\n",
       "      <td>SnapBizz Cloudtech</td>\n",
       "      <td>Android Developer</td>\n",
       "      <td>300000</td>\n",
       "      <td>3</td>\n",
       "      <td>Bangalore</td>\n",
       "      <td>Full Time</td>\n",
       "      <td>Android</td>\n",
       "      <td>25000</td>\n",
       "    </tr>\n",
       "    <tr>\n",
       "      <th>4</th>\n",
       "      <td>4.4</td>\n",
       "      <td>Appoids Tech Solutions</td>\n",
       "      <td>Android Developer</td>\n",
       "      <td>600000</td>\n",
       "      <td>3</td>\n",
       "      <td>Bangalore</td>\n",
       "      <td>Full Time</td>\n",
       "      <td>Android</td>\n",
       "      <td>50000</td>\n",
       "    </tr>\n",
       "    <tr>\n",
       "      <th>...</th>\n",
       "      <td>...</td>\n",
       "      <td>...</td>\n",
       "      <td>...</td>\n",
       "      <td>...</td>\n",
       "      <td>...</td>\n",
       "      <td>...</td>\n",
       "      <td>...</td>\n",
       "      <td>...</td>\n",
       "      <td>...</td>\n",
       "    </tr>\n",
       "    <tr>\n",
       "      <th>22765</th>\n",
       "      <td>4.7</td>\n",
       "      <td>Expert Solutions</td>\n",
       "      <td>Web Developer</td>\n",
       "      <td>200000</td>\n",
       "      <td>1</td>\n",
       "      <td>Bangalore</td>\n",
       "      <td>Full Time</td>\n",
       "      <td>Web</td>\n",
       "      <td>16666</td>\n",
       "    </tr>\n",
       "    <tr>\n",
       "      <th>22766</th>\n",
       "      <td>4.0</td>\n",
       "      <td>Nextgen Innovation Labs</td>\n",
       "      <td>Web Developer</td>\n",
       "      <td>300000</td>\n",
       "      <td>1</td>\n",
       "      <td>Bangalore</td>\n",
       "      <td>Full Time</td>\n",
       "      <td>Web</td>\n",
       "      <td>25000</td>\n",
       "    </tr>\n",
       "    <tr>\n",
       "      <th>22767</th>\n",
       "      <td>4.1</td>\n",
       "      <td>Fresher</td>\n",
       "      <td>Full Stack Web Developer</td>\n",
       "      <td>192000</td>\n",
       "      <td>13</td>\n",
       "      <td>Bangalore</td>\n",
       "      <td>Full Time</td>\n",
       "      <td>Web</td>\n",
       "      <td>16000</td>\n",
       "    </tr>\n",
       "    <tr>\n",
       "      <th>22768</th>\n",
       "      <td>4.1</td>\n",
       "      <td>Accenture</td>\n",
       "      <td>Full Stack Web Developer</td>\n",
       "      <td>300000</td>\n",
       "      <td>7</td>\n",
       "      <td>Bangalore</td>\n",
       "      <td>Full Time</td>\n",
       "      <td>Web</td>\n",
       "      <td>25000</td>\n",
       "    </tr>\n",
       "    <tr>\n",
       "      <th>22769</th>\n",
       "      <td>3.8</td>\n",
       "      <td>Thomson Reuters</td>\n",
       "      <td>Associate Web Developer</td>\n",
       "      <td>300000</td>\n",
       "      <td>7</td>\n",
       "      <td>Bangalore</td>\n",
       "      <td>Full Time</td>\n",
       "      <td>Web</td>\n",
       "      <td>25000</td>\n",
       "    </tr>\n",
       "  </tbody>\n",
       "</table>\n",
       "<p>22770 rows × 9 columns</p>\n",
       "</div>"
      ],
      "text/plain": [
       "       Rating                      Company Name                 Job Title  \\\n",
       "0         3.8                            Sasken         Android Developer   \n",
       "1         4.5  Advanced Millennium Technologies         Android Developer   \n",
       "2         4.0                         Unacademy         Android Developer   \n",
       "3         3.8                SnapBizz Cloudtech         Android Developer   \n",
       "4         4.4            Appoids Tech Solutions         Android Developer   \n",
       "...       ...                               ...                       ...   \n",
       "22765     4.7                  Expert Solutions             Web Developer   \n",
       "22766     4.0           Nextgen Innovation Labs             Web Developer   \n",
       "22767     4.1                           Fresher  Full Stack Web Developer   \n",
       "22768     4.1                         Accenture  Full Stack Web Developer   \n",
       "22769     3.8                   Thomson Reuters   Associate Web Developer   \n",
       "\n",
       "        Salary  Salaries Reported   Location Employment Status Job Roles  \\\n",
       "0       400000                  3  Bangalore         Full Time   Android   \n",
       "1       400000                  3  Bangalore         Full Time   Android   \n",
       "2      1000000                  3  Bangalore         Full Time   Android   \n",
       "3       300000                  3  Bangalore         Full Time   Android   \n",
       "4       600000                  3  Bangalore         Full Time   Android   \n",
       "...        ...                ...        ...               ...       ...   \n",
       "22765   200000                  1  Bangalore         Full Time       Web   \n",
       "22766   300000                  1  Bangalore         Full Time       Web   \n",
       "22767   192000                 13  Bangalore         Full Time       Web   \n",
       "22768   300000                  7  Bangalore         Full Time       Web   \n",
       "22769   300000                  7  Bangalore         Full Time       Web   \n",
       "\n",
       "       Average Salary per month  \n",
       "0                         33333  \n",
       "1                         33333  \n",
       "2                         83333  \n",
       "3                         25000  \n",
       "4                         50000  \n",
       "...                         ...  \n",
       "22765                     16666  \n",
       "22766                     25000  \n",
       "22767                     16000  \n",
       "22768                     25000  \n",
       "22769                     25000  \n",
       "\n",
       "[22770 rows x 9 columns]"
      ]
     },
     "execution_count": 41,
     "metadata": {},
     "output_type": "execute_result"
    }
   ],
   "source": [
    "salary_review[\"Average Salary per month\"] = salary_review[\"Salary\"] // 12\n",
    "salary_review"
   ]
  },
  {
   "cell_type": "code",
   "execution_count": 42,
   "id": "6217f6ba",
   "metadata": {},
   "outputs": [
    {
     "data": {
      "text/plain": [
       "7500000"
      ]
     },
     "execution_count": 42,
     "metadata": {},
     "output_type": "execute_result"
    }
   ],
   "source": [
    "salary_review[\"Average Salary per month\"].max()"
   ]
  },
  {
   "cell_type": "code",
   "execution_count": 43,
   "id": "41946030",
   "metadata": {},
   "outputs": [
    {
     "data": {
      "text/html": [
       "<div>\n",
       "<style scoped>\n",
       "    .dataframe tbody tr th:only-of-type {\n",
       "        vertical-align: middle;\n",
       "    }\n",
       "\n",
       "    .dataframe tbody tr th {\n",
       "        vertical-align: top;\n",
       "    }\n",
       "\n",
       "    .dataframe thead th {\n",
       "        text-align: right;\n",
       "    }\n",
       "</style>\n",
       "<table border=\"1\" class=\"dataframe\">\n",
       "  <thead>\n",
       "    <tr style=\"text-align: right;\">\n",
       "      <th></th>\n",
       "      <th>Rating</th>\n",
       "      <th>Company Name</th>\n",
       "      <th>Job Title</th>\n",
       "      <th>Salary</th>\n",
       "      <th>Salaries Reported</th>\n",
       "      <th>Location</th>\n",
       "      <th>Employment Status</th>\n",
       "      <th>Job Roles</th>\n",
       "      <th>Average Salary per month</th>\n",
       "    </tr>\n",
       "  </thead>\n",
       "  <tbody>\n",
       "    <tr>\n",
       "      <th>4471</th>\n",
       "      <td>3.8</td>\n",
       "      <td>Concentrix</td>\n",
       "      <td>Oracle Database Administrator</td>\n",
       "      <td>10000000</td>\n",
       "      <td>1</td>\n",
       "      <td>Bangalore</td>\n",
       "      <td>Full Time</td>\n",
       "      <td>Database</td>\n",
       "      <td>833333</td>\n",
       "    </tr>\n",
       "    <tr>\n",
       "      <th>5819</th>\n",
       "      <td>3.7</td>\n",
       "      <td>Nityo Infotech</td>\n",
       "      <td>Lead UI Designer, Magento Front-end Developer</td>\n",
       "      <td>9900000</td>\n",
       "      <td>1</td>\n",
       "      <td>Bangalore</td>\n",
       "      <td>Full Time</td>\n",
       "      <td>Frontend</td>\n",
       "      <td>825000</td>\n",
       "    </tr>\n",
       "    <tr>\n",
       "      <th>7121</th>\n",
       "      <td>3.5</td>\n",
       "      <td>Koru UX Design</td>\n",
       "      <td>Senior Front End Developer</td>\n",
       "      <td>10000000</td>\n",
       "      <td>1</td>\n",
       "      <td>Pune</td>\n",
       "      <td>Full Time</td>\n",
       "      <td>Frontend</td>\n",
       "      <td>833333</td>\n",
       "    </tr>\n",
       "    <tr>\n",
       "      <th>9260</th>\n",
       "      <td>3.6</td>\n",
       "      <td>OASYS Cybernetics</td>\n",
       "      <td>Senior Java Developer</td>\n",
       "      <td>10000000</td>\n",
       "      <td>1</td>\n",
       "      <td>Chennai</td>\n",
       "      <td>Full Time</td>\n",
       "      <td>Java</td>\n",
       "      <td>833333</td>\n",
       "    </tr>\n",
       "    <tr>\n",
       "      <th>10832</th>\n",
       "      <td>4.6</td>\n",
       "      <td>GGH Heavy Industries</td>\n",
       "      <td>Best Buy Mobile Sales Associate</td>\n",
       "      <td>9600000</td>\n",
       "      <td>1</td>\n",
       "      <td>Bangalore</td>\n",
       "      <td>Full Time</td>\n",
       "      <td>Mobile</td>\n",
       "      <td>800000</td>\n",
       "    </tr>\n",
       "    <tr>\n",
       "      <th>13615</th>\n",
       "      <td>3.5</td>\n",
       "      <td>ArisGlobal</td>\n",
       "      <td>Software Development Engineer</td>\n",
       "      <td>8700000</td>\n",
       "      <td>1</td>\n",
       "      <td>Bangalore</td>\n",
       "      <td>Full Time</td>\n",
       "      <td>SDE</td>\n",
       "      <td>725000</td>\n",
       "    </tr>\n",
       "    <tr>\n",
       "      <th>15568</th>\n",
       "      <td>5.0</td>\n",
       "      <td>Gaana Lyrics Point.com</td>\n",
       "      <td>Software Development Engineer (SDE) II</td>\n",
       "      <td>9700000</td>\n",
       "      <td>1</td>\n",
       "      <td>Hyderabad</td>\n",
       "      <td>Full Time</td>\n",
       "      <td>SDE</td>\n",
       "      <td>808333</td>\n",
       "    </tr>\n",
       "    <tr>\n",
       "      <th>15682</th>\n",
       "      <td>3.8</td>\n",
       "      <td>Collins Aerospace</td>\n",
       "      <td>Staff Software Development Engineer</td>\n",
       "      <td>8600000</td>\n",
       "      <td>1</td>\n",
       "      <td>Hyderabad</td>\n",
       "      <td>Full Time</td>\n",
       "      <td>SDE</td>\n",
       "      <td>716666</td>\n",
       "    </tr>\n",
       "    <tr>\n",
       "      <th>16062</th>\n",
       "      <td>3.8</td>\n",
       "      <td>Amazon</td>\n",
       "      <td>Software Development Engineer (SDE)</td>\n",
       "      <td>9850000</td>\n",
       "      <td>1</td>\n",
       "      <td>Kolkata</td>\n",
       "      <td>Full Time</td>\n",
       "      <td>SDE</td>\n",
       "      <td>820833</td>\n",
       "    </tr>\n",
       "    <tr>\n",
       "      <th>16619</th>\n",
       "      <td>4.2</td>\n",
       "      <td>FFF Enterprises</td>\n",
       "      <td>Non Software Development Engineer</td>\n",
       "      <td>9800000</td>\n",
       "      <td>1</td>\n",
       "      <td>Mumbai</td>\n",
       "      <td>Full Time</td>\n",
       "      <td>SDE</td>\n",
       "      <td>816666</td>\n",
       "    </tr>\n",
       "    <tr>\n",
       "      <th>18635</th>\n",
       "      <td>3.6</td>\n",
       "      <td>Thapar University</td>\n",
       "      <td>Software Development Engineer (SDE)</td>\n",
       "      <td>90000000</td>\n",
       "      <td>1</td>\n",
       "      <td>New Delhi</td>\n",
       "      <td>Full Time</td>\n",
       "      <td>SDE</td>\n",
       "      <td>7500000</td>\n",
       "    </tr>\n",
       "    <tr>\n",
       "      <th>18654</th>\n",
       "      <td>4.3</td>\n",
       "      <td>Digital Raju</td>\n",
       "      <td>Software Development Engineer (SDE)</td>\n",
       "      <td>9800000</td>\n",
       "      <td>1</td>\n",
       "      <td>New Delhi</td>\n",
       "      <td>Full Time</td>\n",
       "      <td>SDE</td>\n",
       "      <td>816666</td>\n",
       "    </tr>\n",
       "    <tr>\n",
       "      <th>19638</th>\n",
       "      <td>3.9</td>\n",
       "      <td>NortonLifeLock</td>\n",
       "      <td>Software Development Engineer In Test (SDET)</td>\n",
       "      <td>9400000</td>\n",
       "      <td>1</td>\n",
       "      <td>Pune</td>\n",
       "      <td>Full Time</td>\n",
       "      <td>SDE</td>\n",
       "      <td>783333</td>\n",
       "    </tr>\n",
       "  </tbody>\n",
       "</table>\n",
       "</div>"
      ],
      "text/plain": [
       "       Rating            Company Name  \\\n",
       "4471      3.8              Concentrix   \n",
       "5819      3.7          Nityo Infotech   \n",
       "7121      3.5          Koru UX Design   \n",
       "9260      3.6       OASYS Cybernetics   \n",
       "10832     4.6    GGH Heavy Industries   \n",
       "13615     3.5              ArisGlobal   \n",
       "15568     5.0  Gaana Lyrics Point.com   \n",
       "15682     3.8       Collins Aerospace   \n",
       "16062     3.8                  Amazon   \n",
       "16619     4.2         FFF Enterprises   \n",
       "18635     3.6       Thapar University   \n",
       "18654     4.3            Digital Raju   \n",
       "19638     3.9          NortonLifeLock   \n",
       "\n",
       "                                           Job Title    Salary  \\\n",
       "4471                   Oracle Database Administrator  10000000   \n",
       "5819   Lead UI Designer, Magento Front-end Developer   9900000   \n",
       "7121                      Senior Front End Developer  10000000   \n",
       "9260                           Senior Java Developer  10000000   \n",
       "10832                Best Buy Mobile Sales Associate   9600000   \n",
       "13615                  Software Development Engineer   8700000   \n",
       "15568         Software Development Engineer (SDE) II   9700000   \n",
       "15682            Staff Software Development Engineer   8600000   \n",
       "16062            Software Development Engineer (SDE)   9850000   \n",
       "16619              Non Software Development Engineer   9800000   \n",
       "18635            Software Development Engineer (SDE)  90000000   \n",
       "18654            Software Development Engineer (SDE)   9800000   \n",
       "19638   Software Development Engineer In Test (SDET)   9400000   \n",
       "\n",
       "       Salaries Reported   Location Employment Status Job Roles  \\\n",
       "4471                   1  Bangalore         Full Time  Database   \n",
       "5819                   1  Bangalore         Full Time  Frontend   \n",
       "7121                   1       Pune         Full Time  Frontend   \n",
       "9260                   1    Chennai         Full Time      Java   \n",
       "10832                  1  Bangalore         Full Time    Mobile   \n",
       "13615                  1  Bangalore         Full Time       SDE   \n",
       "15568                  1  Hyderabad         Full Time       SDE   \n",
       "15682                  1  Hyderabad         Full Time       SDE   \n",
       "16062                  1    Kolkata         Full Time       SDE   \n",
       "16619                  1     Mumbai         Full Time       SDE   \n",
       "18635                  1  New Delhi         Full Time       SDE   \n",
       "18654                  1  New Delhi         Full Time       SDE   \n",
       "19638                  1       Pune         Full Time       SDE   \n",
       "\n",
       "       Average Salary per month  \n",
       "4471                     833333  \n",
       "5819                     825000  \n",
       "7121                     833333  \n",
       "9260                     833333  \n",
       "10832                    800000  \n",
       "13615                    725000  \n",
       "15568                    808333  \n",
       "15682                    716666  \n",
       "16062                    820833  \n",
       "16619                    816666  \n",
       "18635                   7500000  \n",
       "18654                    816666  \n",
       "19638                    783333  "
      ]
     },
     "execution_count": 43,
     "metadata": {},
     "output_type": "execute_result"
    }
   ],
   "source": [
    "avarage_salary_per_month_more_700k = salary_review[salary_review[\"Average Salary per month\"] > 700_000]\n",
    "avarage_salary_per_month_more_700k"
   ]
  },
  {
   "cell_type": "code",
   "execution_count": 44,
   "id": "7f0be80c",
   "metadata": {
    "scrolled": true
   },
   "outputs": [
    {
     "data": {
      "text/plain": [
       "Job Title\n",
       "Lead UI Designer, Magento Front-end Developer    825000.0\n",
       "Non Software Development Engineer                816666.0\n",
       "Mobile App Development                           416666.0\n",
       "Front-end - Intern                               408333.0\n",
       "Principal Mobile Architect                       400000.0\n",
       "Name: Average Salary per month, dtype: float64"
      ]
     },
     "execution_count": 44,
     "metadata": {},
     "output_type": "execute_result"
    }
   ],
   "source": [
    "average_salary_per_month_by_job_title = salary_review.groupby(['Job Title'])[\n",
    "    'Average Salary per month'].mean().sort_values(ascending=False)\n",
    "average_salary_per_month_by_job_title.head()"
   ]
  },
  {
   "cell_type": "code",
   "execution_count": 45,
   "id": "42fc3414",
   "metadata": {
    "scrolled": true
   },
   "outputs": [
    {
     "data": {
      "text/plain": [
       "Text(0, 0.5, '$')"
      ]
     },
     "execution_count": 45,
     "metadata": {},
     "output_type": "execute_result"
    },
    {
     "data": {
      "image/png": "[encoded data removed]",
      "text/plain": [
       "<Figure size 432x288 with 1 Axes>"
      ]
     },
     "metadata": {
      "needs_background": "light"
     },
     "output_type": "display_data"
    }
   ],
   "source": [
    "average_salary_per_month_by_job_title.head(10).plot(kind = 'bar', \n",
    "                                                    title = 'Average Salary per month by Job Title').set_ylabel('$')"
   ]
  }
 ],
 "metadata": {
  "kernelspec": {
   "display_name": "Python 3 (ipykernel)",
   "language": "python",
   "name": "python3"
  },
  "language_info": {
   "codemirror_mode": {
    "name": "ipython",
    "version": 3
   },
   "file_extension": ".py",
   "mimetype": "text/x-python",
   "name": "python",
   "nbconvert_exporter": "python",
   "pygments_lexer": "ipython3",
   "version": "3.10.4"
  }
 },
 "nbformat": 4,
 "nbformat_minor": 5
}
